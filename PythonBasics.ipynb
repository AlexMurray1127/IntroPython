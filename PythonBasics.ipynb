{
  "nbformat": 4,
  "nbformat_minor": 0,
  "metadata": {
    "colab": {
      "provenance": [],
      "authorship_tag": "ABX9TyP7aBnK4jJVlSyezONFW6Xp",
      "include_colab_link": true
    },
    "kernelspec": {
      "name": "python3",
      "display_name": "Python 3"
    },
    "language_info": {
      "name": "python"
    }
  },
  "cells": [
    {
      "cell_type": "markdown",
      "metadata": {
        "id": "view-in-github",
        "colab_type": "text"
      },
      "source": [
        "<a href=\"https://colab.research.google.com/github/AlexMurray1127/IntroPython/blob/main/PythonBasics.ipynb\" target=\"_parent\"><img src=\"https://colab.research.google.com/assets/colab-badge.svg\" alt=\"Open In Colab\"/></a>"
      ]
    },
    {
      "cell_type": "code",
      "execution_count": null,
      "metadata": {
        "id": "9RPxXGXq21Ls",
        "colab": {
          "base_uri": "https://localhost:8080/"
        },
        "outputId": "84e7eeb2-ed67-4443-db57-bb4705a085b9"
      },
      "outputs": [
        {
          "output_type": "stream",
          "name": "stdout",
          "text": [
            "Hello World!\n"
          ]
        }
      ],
      "source": [
        "print('Hello World!')"
      ]
    },
    {
      "cell_type": "markdown",
      "source": [
        "### This Notebook Shows Python Basics\n",
        "\n",
        "The hash symbol # can be used to create a comment in python, text which is ignored when running the program, but useful for documentation.\n",
        "\n",
        "Most programming languages have several built-in data types.\n",
        "**Python Datatypes**\n",
        "* int\n",
        "* str\n",
        "* float\n",
        "* bool"
      ],
      "metadata": {
        "id": "ENj2LNZD9N9F"
      }
    },
    {
      "cell_type": "code",
      "source": [
        "x = 5           # int\n",
        "s = 'hello'     # str\n",
        "temp = 98.6     # float\n",
        "iAmSam = False  # bool\n",
        "y = '98.6'\n",
        "print(x + temp)"
      ],
      "metadata": {
        "id": "VRtO3AIOM6Ar"
      },
      "execution_count": null,
      "outputs": []
    },
    {
      "cell_type": "markdown",
      "source": [
        "Python Collection Types\n",
        "* List - Ordered, indexed, like an array, mutable\n",
        "* Tuple - immutable list\n",
        "* Dict - A hashtable, a set of key, value data pairs\n"
      ],
      "metadata": {
        "id": "ykPtF4lJNLjZ"
      }
    },
    {
      "cell_type": "code",
      "source": [
        "my_list = ['I','love','CIS']\n",
        "print(my_list[2])\n",
        "my_list2 = [3,'hello','frogs',4.3, True]\n",
        "my_list3 = ['Purple', 'Eagles']\n",
        "\n",
        "example_dict = {'triangle':3, 'square':4, 'septagon':7}\n",
        "exapmle_dict['decagon'] = 10\n",
        "print(example_dict['septagon'])"
      ],
      "metadata": {
        "id": "iR_0YGBzNgg_"
      },
      "execution_count": null,
      "outputs": []
    },
    {
      "cell_type": "markdown",
      "source": [
        "# The Representation Problem\n",
        "\n",
        "How do we code states and actions of a real world problem in a programming language\n",
        "\n",
        "**PEAS**\n",
        "* Performance measure\n",
        "* Environment\n",
        "  * Includes **State** and\n",
        "  * Rules for how **Actions** update the state\n",
        "* Actions\n",
        "* Sensors - The portion of the world state that the agent can see\n",
        "* Agent - An Autonomous program that sees through sensors and determines actions\n",
        "\n",
        "Continuous vs. discreet\n",
        "\n",
        "### **Example: Farmer, Wolf, Sheep, Oats, River Problem**\n",
        "\n"
      ],
      "metadata": {
        "id": "l_75MK5KOXi1"
      }
    },
    {
      "cell_type": "code",
      "source": [
        "# STATE\n",
        "farmer_is_on_top = True\n",
        "wolf_is_on_top = True\n",
        "sheep_is_on_top = True\n",
        "oats_is_on_top = True\n",
        "\n",
        "oats_is_intact = True\n",
        "sheep_is_alive = True\n",
        "\n",
        "def print_state():\n",
        "  \"\"\" Prints all the parties on top of river bank, followed by ======, then all paries below the river bank \"\"\"\n",
        "  if farmer_is_on_top == True:\n",
        "    print('FARMER')\n",
        "  if wolf_is_on_top == True:\n",
        "    print('WOLF')\n",
        "  if sheep_is_on_top == True:\n",
        "    print('SHEEP')\n",
        "  if oats_is_on_top == True:\n",
        "    print('OATS')\n",
        "  print('=================')\n",
        "  if farmer_is_on_top != True:\n",
        "    print('FARMER')\n",
        "  if not wolf_is_on_top:\n",
        "    print('WOLF')\n",
        "  if not sheep_is_on_top:\n",
        "    print('SHEEP')\n",
        "  if oats_is_on_top != True:\n",
        "    print('OATS')\n",
        "\n",
        "\n",
        "# Action\n",
        "\n",
        "def move(thing):\n",
        "  \"\"\" Updates STATE variables given that the farmer moves thing. Thing must be one 'wolf', 'sheep', 'oats' \"\"\"\n",
        "  #TODO\n",
        "\n",
        "################\n",
        "print_state()"
      ],
      "metadata": {
        "colab": {
          "base_uri": "https://localhost:8080/"
        },
        "id": "JmlTsSaYPSeN",
        "outputId": "eb0911de-6e85-4e10-9fcd-3ece04fc7cba"
      },
      "execution_count": 6,
      "outputs": [
        {
          "output_type": "stream",
          "name": "stdout",
          "text": [
            "FARMER\n",
            "WOLF\n",
            "SHEEP\n",
            "OATS\n",
            "=================\n"
          ]
        }
      ]
    }
  ]
}