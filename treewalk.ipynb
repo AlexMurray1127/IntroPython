{
  "nbformat": 4,
  "nbformat_minor": 0,
  "metadata": {
    "colab": {
      "provenance": [],
      "authorship_tag": "ABX9TyPYS1/lD/TDKtRXq3dWQ43p",
      "include_colab_link": true
    },
    "kernelspec": {
      "name": "python3",
      "display_name": "Python 3"
    },
    "language_info": {
      "name": "python"
    }
  },
  "cells": [
    {
      "cell_type": "markdown",
      "metadata": {
        "id": "view-in-github",
        "colab_type": "text"
      },
      "source": [
        "<a href=\"https://colab.research.google.com/github/AlexMurray1127/IntroPython/blob/main/treewalk.ipynb\" target=\"_parent\"><img src=\"https://colab.research.google.com/assets/colab-badge.svg\" alt=\"Open In Colab\"/></a>"
      ]
    },
    {
      "cell_type": "markdown",
      "source": [
        "### Definitions for Trees\n",
        "**Tree:** A directed graph data structure made of nodes. Each node having  exactly one parent, except for the root node which has zero. A node can have one or more nodes.\n",
        "\n",
        "**Root:** Top most node that has no parent.\n",
        "\n",
        "**Leaf:** A tree node with no children.\n",
        "\n",
        "**Child:** Nodes that have a direct reference to the parent.\n",
        "\n",
        "**N-ary Tree:** A tree in which each node can have a variable number of children."
      ],
      "metadata": {
        "id": "fyrZr7h0uTgu"
      }
    },
    {
      "cell_type": "code",
      "execution_count": null,
      "metadata": {
        "id": "lyufP748skkk"
      },
      "outputs": [],
      "source": []
    }
  ]
}